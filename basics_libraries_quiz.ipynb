{
 "cells": [
  {
   "cell_type": "code",
   "execution_count": 1,
   "id": "d69eb684",
   "metadata": {},
   "outputs": [],
   "source": [
    "from random import uniform"
   ]
  },
  {
   "cell_type": "code",
   "execution_count": 2,
   "id": "59bb5306",
   "metadata": {},
   "outputs": [],
   "source": [
    "def flip_coin(p_tails):\n",
    "\n",
    "    coin = ['H', 'T']\n",
    "\n",
    "    if uniform(0, 1) > p_tails:\n",
    "        return 'H'\n",
    "    else:\n",
    "        return 'T'\n",
    "\n",
    "def update_money(money, outcome):\n",
    "    \n",
    "    if outcome == 'H':\n",
    "        money -= 1\n",
    "    else:\n",
    "        money += 1\n",
    "    return money\n",
    "\n",
    "def game_a(money):\n",
    "    \n",
    "    p_tails = 0.49\n",
    "\n",
    "    outcome = flip_coin(p_tails)\n",
    "    money = update_money(money, outcome)\n",
    "    return money\n",
    "\n",
    "def game_b(money):\n",
    "    \n",
    "    p_tails1 = 0.09\n",
    "    p_tails2 = 0.74\n",
    "\n",
    "    if money % 3 == 0:\n",
    "        outcome = flip_coin(p_tails1)\n",
    "    else:\n",
    "        outcome = flip_coin(p_tails2)\n",
    "    money = update_money(money,outcome)\n",
    "    return money"
   ]
  },
  {
   "cell_type": "markdown",
   "id": "c3371e22",
   "metadata": {},
   "source": [
    "## Question 4\n",
    "\n",
    "First, a game that we will call A, which is a simple coin flip with a biased coin (tails with a probability of p=0.49). The player bets one dollar and flips the coin: if they get tails, they win one dollar and recoup their bet, otherwise they lose their bet.\n",
    "\n",
    "Then, a game that we will call B, which is a game with two biased coins. The first coin gives tails with probability p1 = 0.09 and the second coin gives tails with probability p2 = 0.74. The player can only bet one dollar at a time! However, at each flip, we look at the player's total amount of money to determine which coin to flip: if the amount is a multiple of three, we flip the first coin, otherwise we flip the second coin. As in game A, the player recoups their bet plus an extra dollar if the chosen coin lands on tails, otherwise they lose their bet.\n",
    "\n",
    "A game is considered won when a player finishes with more money than they started with after playing a large number of rounds (e.g., several hundred). Implement these two games of chance with Python, using the libraries seen earlier, considering that the player starts with a capital of $1,000. "
   ]
  },
  {
   "cell_type": "code",
   "execution_count": 3,
   "id": "d6b6758a",
   "metadata": {},
   "outputs": [
    {
     "name": "stdout",
     "output_type": "stream",
     "text": [
      "$855 after 9999 attempts\n"
     ]
    }
   ],
   "source": [
    "# Game A\n",
    "\n",
    "money = 1000\n",
    "\n",
    "i = 0\n",
    "while i < 9999 and money > 0:\n",
    "    money = game_a(money)\n",
    "    i += 1\n",
    "\n",
    "print(f'${money} after {i} attempts')"
   ]
  },
  {
   "cell_type": "code",
   "execution_count": 4,
   "id": "9efd7893",
   "metadata": {},
   "outputs": [
    {
     "name": "stdout",
     "output_type": "stream",
     "text": [
      "$899 after 9999 attempts\n"
     ]
    }
   ],
   "source": [
    "# Game B\n",
    "\n",
    "money = 1000\n",
    "\n",
    "i = 0\n",
    "while i< 9999 and money > 0:\n",
    "    money = game_b(money)\n",
    "    i += 1\n",
    "\n",
    "print(f'${money} after {i} attempts')"
   ]
  },
  {
   "cell_type": "markdown",
   "id": "686695d7",
   "metadata": {},
   "source": [
    "## Question 5\n",
    "\n",
    "We will now mix the two games presented in the previous question! Effectively, at each turn, we now flip a coin which is balanced! If you have tails, you play game A, otherwise you play game B.\n",
    "\n",
    "It is assumed that the player has $1,000 as starting capital.\n",
    "\n",
    "After playing 1,000,000 games, what is the status of the game, from the player's point of view?"
   ]
  },
  {
   "cell_type": "code",
   "execution_count": 5,
   "id": "c18aca51",
   "metadata": {},
   "outputs": [
    {
     "name": "stdout",
     "output_type": "stream",
     "text": [
      "$1049 after 9999 attempts\n"
     ]
    }
   ],
   "source": [
    "p_tails = 0.5\n",
    "money = 1000\n",
    "\n",
    "i = 0\n",
    "while i < 9999 and money > 0:\n",
    "    outcome = flip_coin(p_tails)\n",
    "    if outcome == 'T':\n",
    "        money = game_a(money)\n",
    "    else:\n",
    "        money = game_b(money)\n",
    "    i += 1\n",
    "        \n",
    "print(f'${money} after {i} attempts')"
   ]
  }
 ],
 "metadata": {
  "kernelspec": {
   "display_name": "Python 3 (ipykernel)",
   "language": "python",
   "name": "python3"
  },
  "language_info": {
   "codemirror_mode": {
    "name": "ipython",
    "version": 3
   },
   "file_extension": ".py",
   "mimetype": "text/x-python",
   "name": "python",
   "nbconvert_exporter": "python",
   "pygments_lexer": "ipython3",
   "version": "3.9.7"
  }
 },
 "nbformat": 4,
 "nbformat_minor": 5
}
